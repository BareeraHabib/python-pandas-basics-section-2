{
  "cells": [
    {
      "cell_type": "markdown",
      "metadata": {
        "id": "evJ2TrGx-IJn"
      },
      "source": [
        "# Lists\n",
        "\n",
        "As we are to become Data Scientists, we are going to need objects that can store multiple elements. In Python, the list is one of the most useful of these. You can create a list with `[]`, and separate each element with a comma:"
      ]
    },
    {
      "cell_type": "code",
      "execution_count": null,
      "metadata": {
        "id": "2WTRWUWU-IJu"
      },
      "outputs": [],
      "source": [
        "# https://www.w3schools.com/python/python_lists.asp\n",
        "\n",
        "weekdays = [\"Monday\", \"Tuesday\", \"Wednesday\", \"Thursday\", \"Friday\"]"
      ]
    },
    {
      "cell_type": "markdown",
      "metadata": {
        "id": "PD2FdgHZ-IJv"
      },
      "source": [
        "A list can also contain numbers:"
      ]
    },
    {
      "cell_type": "code",
      "execution_count": null,
      "metadata": {
        "id": "T8jYjrlB-IJw"
      },
      "outputs": [],
      "source": [
        "leap_years = [2000, 2004, 2008, 2012, 2016, 2020]"
      ]
    },
    {
      "cell_type": "markdown",
      "metadata": {
        "id": "ln8aKeZc-IJw"
      },
      "source": [
        "You can create a list out of something else with `list()`:"
      ]
    },
    {
      "cell_type": "code",
      "execution_count": null,
      "metadata": {
        "colab": {
          "base_uri": "https://localhost:8080/"
        },
        "id": "M3ynuQNH-IJw",
        "outputId": "1c84dd4a-dd16-44b9-d255-485a98e1ad26"
      },
      "outputs": [
        {
          "data": {
            "text/plain": [
              "['W', 'B', 'S', 'C', 'S']"
            ]
          },
          "execution_count": 3,
          "metadata": {},
          "output_type": "execute_result"
        }
      ],
      "source": [
        "# https://www.w3schools.com/python/ref_func_list.asp\n",
        "\n",
        "list(\"WBSCS\")"
      ]
    },
    {
      "cell_type": "markdown",
      "metadata": {
        "id": "H5yWiS0X-IJx"
      },
      "source": [
        "You can extract single or multiple values from a list by especifying their index inside of square brackets:"
      ]
    },
    {
      "cell_type": "code",
      "execution_count": null,
      "metadata": {
        "colab": {
          "base_uri": "https://localhost:8080/",
          "height": 36
        },
        "id": "86cEoKzp-IJx",
        "outputId": "65335020-652e-4205-c1c1-38e5991a97eb"
      },
      "outputs": [
        {
          "data": {
            "application/vnd.google.colaboratory.intrinsic+json": {
              "type": "string"
            },
            "text/plain": [
              "'Monday'"
            ]
          },
          "execution_count": 4,
          "metadata": {},
          "output_type": "execute_result"
        }
      ],
      "source": [
        "weekdays[0]"
      ]
    },
    {
      "cell_type": "code",
      "execution_count": null,
      "metadata": {
        "colab": {
          "base_uri": "https://localhost:8080/"
        },
        "id": "bt9Xhvg9-IJy",
        "outputId": "fd58200e-150c-4707-f2b6-df5d7edde1fb"
      },
      "outputs": [
        {
          "data": {
            "text/plain": [
              "2020"
            ]
          },
          "execution_count": 5,
          "metadata": {},
          "output_type": "execute_result"
        }
      ],
      "source": [
        "leap_years[-1]"
      ]
    },
    {
      "cell_type": "code",
      "execution_count": null,
      "metadata": {
        "colab": {
          "base_uri": "https://localhost:8080/"
        },
        "id": "W_Hcp3_C-IJy",
        "outputId": "2cdeecde-4142-463a-8843-360c402e39fb"
      },
      "outputs": [
        {
          "data": {
            "text/plain": [
              "['Monday', 'Tuesday', 'Wednesday']"
            ]
          },
          "execution_count": 6,
          "metadata": {},
          "output_type": "execute_result"
        }
      ],
      "source": [
        "weekdays[0:3]"
      ]
    },
    {
      "cell_type": "markdown",
      "metadata": {
        "id": "ngqN-AnY-IJy"
      },
      "source": [
        "One of the most useful functions we will use in combination with lists is `append()`: it just adds an element at the end of the list:"
      ]
    },
    {
      "cell_type": "code",
      "execution_count": null,
      "metadata": {
        "colab": {
          "base_uri": "https://localhost:8080/"
        },
        "id": "BYfc6SML-IJz",
        "outputId": "3f96e3b1-3238-4252-c4b7-74bf37fc263f"
      },
      "outputs": [
        {
          "name": "stdout",
          "output_type": "stream",
          "text": [
            "[2000, 2004, 2008, 2012, 2016, 2020, 2024]\n"
          ]
        }
      ],
      "source": [
        "# https://www.w3schools.com/python/ref_list_append.asp\n",
        "\n",
        "leap_years.append(2024)\n",
        "print(leap_years)"
      ]
    },
    {
      "cell_type": "markdown",
      "metadata": {
        "id": "Mb2QbYFE-IJz"
      },
      "source": [
        "This is possible because lists, unlike strings or numbers, are mutable: you can change them without having to define them again."
      ]
    },
    {
      "cell_type": "markdown",
      "metadata": {
        "id": "Pbow42kU-IJz"
      },
      "source": [
        "The `insert()` function does the same, but at any specified position:"
      ]
    },
    {
      "cell_type": "code",
      "execution_count": null,
      "metadata": {
        "colab": {
          "base_uri": "https://localhost:8080/"
        },
        "id": "LlX6vM1a-IJz",
        "outputId": "334978b0-b6d8-4053-b324-16d50e9efb7b"
      },
      "outputs": [
        {
          "name": "stdout",
          "output_type": "stream",
          "text": [
            "[1996, 2000, 2004, 2008, 2012, 2016, 2020, 2024]\n"
          ]
        }
      ],
      "source": [
        "# https://www.w3schools.com/python/ref_list_insert.asp\n",
        "\n",
        "leap_years.insert(0, 1996)\n",
        "print(leap_years)"
      ]
    },
    {
      "cell_type": "code",
      "execution_count": null,
      "metadata": {
        "colab": {
          "base_uri": "https://localhost:8080/"
        },
        "id": "CzHEG0Tu-IJ0",
        "outputId": "36dcc75e-f246-4627-af3d-4b14b14aef6b"
      },
      "outputs": [
        {
          "name": "stdout",
          "output_type": "stream",
          "text": [
            "[1996, 2000, 'Happy new millenia', 2004, 2008, 2012, 2016, 2020, 2024]\n"
          ]
        }
      ],
      "source": [
        "leap_years.insert(2, \"Happy new millenia\")\n",
        "print(leap_years)"
      ]
    },
    {
      "cell_type": "markdown",
      "metadata": {
        "id": "UAvH2X8K-IJ0"
      },
      "source": [
        "As you can see, lists support elements from different data types. They're heterogeneous.\n",
        "\n",
        "There are some other built-in methods that you can use to manipulate lists. Check them out here (https://www.w3schools.com/python/python_lists_methods.asp) and complete the following exercises:"
      ]
    },
    {
      "cell_type": "code",
      "execution_count": 9,
      "metadata": {
        "id": "ll49LIKx-IJ0"
      },
      "outputs": [],
      "source": [
        "# some lists to work with\n",
        "car_brands = [\"BMW\", \"Volkswagen\", \"Mercedes\", \"Ford\", \"Apple\", \"Toyota\", \n",
        "              \"Tesla\", \"Kia\", \"Porsche\", \"Mazda\", \"Honda\", \"Jaguar\", \n",
        "              \"Mitsubishi\", \"Audi\", \"Bentley\", \"Bugatti\", \"Chrisler\"]\n",
        "\n",
        "fibonacci = [0, 1, 1, 2, 3, 5, 8, 13, 21, 34, 53, 89, 144]\n",
        "\n",
        "characters = [[\"Harry\", \"Hermoine\", \"Ron\"], \n",
        "              [\"Daenerys Targaryen\", \"Jon Snow\", \"Tyrion Lannister\", \n",
        "               \"Cercei Lannister\", \"Arya Stark\", \"Sansa Stark\"],\n",
        "              [\"Aragorn\", \"Gandalf\", \"Frodo\", \"Legolas\", \"Gollum\", \"Gimli\"],\n",
        "              [\"Walter White\", \"Jesse Pinkman\", \"Gus Fring\"]\n",
        "             ]\n",
        "\n",
        "sex_and_the_city = [\"Carrie\", \"Samantha\", \"Charlotte\", \"Miranda\"]\n",
        "\n",
        "numbers = [[1, 51, 59, 2, 95, 25, 28, 67, 14, 63, 84, 33, 56, 31, 54, 97, 77, \n",
        "            98, 46, 84, 6, 66, 86, 77, 69, 19, 77, 7, 76, 19, 59, 77, 28, 34, \n",
        "            94, 4, 45, 95, 41, 66, 5, 38, 35, 57, 84, 38, 94, 65, 45, 80, 83, \n",
        "            22, 12, 100, 52, 55, 31, 69, 29, 67, 4, 39, 87, 49, 81, 82, 96, 4, \n",
        "            85, 62, 90, 72, 70, 26, 29, 63, 48, 94, 58, 9, 49, 79, 33, 63, 41, \n",
        "            13, 90, 37, 31, 3, 11, 54, 56, 72, 91, 97, 2, 83, 82, 6]]"
      ]
    },
    {
      "cell_type": "markdown",
      "metadata": {
        "id": "xlx6IauS-IJ0"
      },
      "source": [
        "###### **Exercise 1:**\n",
        "find out the position of \"Bugatti\" in the `car_brands` list (whether it's the 3rd element, the 5th...)."
      ]
    },
    {
      "cell_type": "code",
      "execution_count": null,
      "metadata": {
        "colab": {
          "base_uri": "https://localhost:8080/"
        },
        "id": "JSOkYULM-IJ1",
        "outputId": "9ad65361-b490-4d5e-87da-244178037b10",
        "tags": []
      },
      "outputs": [
        {
          "data": {
            "text/plain": [
              "16"
            ]
          },
          "execution_count": 4,
          "metadata": {},
          "output_type": "execute_result"
        }
      ],
      "source": [
        "# https://www.w3schools.com/python/ref_list_index.asp\n",
        "\n",
        "bugatti_index = car_brands.index('Bugatti') + 1\n",
        "bugatti_index"
      ]
    },
    {
      "cell_type": "markdown",
      "metadata": {
        "id": "uY0v5oU6-IJ1"
      },
      "source": [
        "###### **Exercise 2:**\n",
        "remove \"Apple\" from the `car_brands` list."
      ]
    },
    {
      "cell_type": "code",
      "execution_count": null,
      "metadata": {
        "colab": {
          "base_uri": "https://localhost:8080/"
        },
        "id": "7P6_IQoQ-IJ1",
        "outputId": "bff8c303-47ec-42f1-fd45-efa6876ac02d"
      },
      "outputs": [
        {
          "data": {
            "text/plain": [
              "['BMW',\n",
              " 'Volkswagen',\n",
              " 'Mercedes',\n",
              " 'Ford',\n",
              " 'Toyota',\n",
              " 'Tesla',\n",
              " 'Kia',\n",
              " 'Porsche',\n",
              " 'Mazda',\n",
              " 'Honda',\n",
              " 'Jaguar',\n",
              " 'Mitsubishi',\n",
              " 'Audi',\n",
              " 'Bentley',\n",
              " 'Bugatti',\n",
              " 'Chrisler']"
            ]
          },
          "execution_count": 12,
          "metadata": {},
          "output_type": "execute_result"
        }
      ],
      "source": [
        "#https://www.w3schools.com/python/ref_list_remove.asp\n",
        "\n",
        "car_brands.remove('Apple')\n",
        "car_brands"
      ]
    },
    {
      "cell_type": "markdown",
      "metadata": {
        "id": "s272exJGZbcQ"
      },
      "source": []
    },
    {
      "cell_type": "markdown",
      "metadata": {
        "id": "FBddT04e-IJ1"
      },
      "source": [
        "###### **Exercise 3:**\n",
        "order alphabetically the `car_brands` list."
      ]
    },
    {
      "cell_type": "code",
      "execution_count": null,
      "metadata": {
        "id": "mz9fI6tl-IJ2"
      },
      "outputs": [],
      "source": [
        "# https://www.w3schools.com/python/ref_list_sort.asp\n",
        "\n",
        "car_brands.sort()"
      ]
    },
    {
      "cell_type": "markdown",
      "metadata": {
        "id": "i9kwIGR9-IJ2"
      },
      "source": [
        "###### **Exercise 4:**\n",
        "there's a mistake in the list with fibonacci sequence, fix it."
      ]
    },
    {
      "cell_type": "code",
      "execution_count": 11,
      "metadata": {
        "colab": {
          "base_uri": "https://localhost:8080/"
        },
        "id": "W8ZJ10Ui-IJ2",
        "outputId": "eba7f4fc-34f5-4149-9028-0f1346335887"
      },
      "outputs": [
        {
          "data": {
            "text/plain": [
              "[0, 1, 1, 2, 3, 5, 8, 13, 21, 34, 55, 89, 144]"
            ]
          },
          "execution_count": 11,
          "metadata": {},
          "output_type": "execute_result"
        }
      ],
      "source": [
        "# https://www.w3schools.com/python/ref_list_pop.asp\n",
        "# https://www.w3schools.com/python/ref_list_insert.asp\n",
        "\n",
        "fibonacci.pop(10)\n",
        "fibonacci.insert(10,55)\n",
        "fibonacci"
      ]
    },
    {
      "cell_type": "markdown",
      "metadata": {
        "id": "TNiW1faP-IJ2"
      },
      "source": [
        "###### **Exercise 5:**\n",
        "order the `fibonacci` list descendingly."
      ]
    },
    {
      "cell_type": "code",
      "execution_count": 12,
      "metadata": {
        "colab": {
          "base_uri": "https://localhost:8080/"
        },
        "id": "9WihLuby-IJ2",
        "outputId": "140118df-7de4-4c6a-f9bb-1f861ca50590"
      },
      "outputs": [
        {
          "data": {
            "text/plain": [
              "[144, 89, 55, 34, 21, 13, 8, 5, 3, 2, 1, 1, 0]"
            ]
          },
          "execution_count": 12,
          "metadata": {},
          "output_type": "execute_result"
        }
      ],
      "source": [
        "fibonacci.sort(reverse=True)\n",
        "fibonacci"
      ]
    },
    {
      "cell_type": "markdown",
      "metadata": {
        "id": "pn8eWBXx-IJ2"
      },
      "source": [
        "###### **Exercise 6:**\n",
        "add \"Hagrid\" and \"Dumbledore\" to the first list inside the `characters` list."
      ]
    },
    {
      "cell_type": "code",
      "execution_count": null,
      "metadata": {
        "colab": {
          "base_uri": "https://localhost:8080/"
        },
        "id": "gICkANM8-IJ2",
        "outputId": "59aee1ee-ff66-4c49-d33c-8bbbde804aff"
      },
      "outputs": [
        {
          "data": {
            "text/plain": [
              "[['Harry', 'Hermoine', 'Ron', 'Hagrid', 'Dumbledore'],\n",
              " ['Daenerys Targaryen',\n",
              "  'Jon Snow',\n",
              "  'Tyrion Lannister',\n",
              "  'Cercei Lannister',\n",
              "  'Arya Stark',\n",
              "  'Sansa Stark'],\n",
              " ['Aragorn', 'Gandalf', 'Frodo', 'Legolas', 'Gollum', 'Gimli'],\n",
              " ['Walter White', 'Jesse Pinkman', 'Gus Fring']]"
            ]
          },
          "execution_count": 16,
          "metadata": {},
          "output_type": "execute_result"
        }
      ],
      "source": [
        "# https://www.w3schools.com/python/ref_list_append.asp\n",
        "\n",
        "characters[0].append('Hagrid')\n",
        "characters[0].append('Dumbledore')\n",
        "characters"
      ]
    },
    {
      "cell_type": "markdown",
      "metadata": {
        "id": "CTKCzkdF-IJ3"
      },
      "source": [
        "###### **Exercise 7:**\n",
        "add the `sex_and_the_city` list in the `characters` list."
      ]
    },
    {
      "cell_type": "code",
      "execution_count": null,
      "metadata": {
        "colab": {
          "base_uri": "https://localhost:8080/"
        },
        "id": "iFO2iyJJ-IJ3",
        "outputId": "1c62bcd9-0439-43ec-db8c-3160497b9ac8"
      },
      "outputs": [
        {
          "data": {
            "text/plain": [
              "[['Harry', 'Hermoine', 'Ron', 'Hagrid', 'Dumbledore'],\n",
              " ['Daenerys Targaryen',\n",
              "  'Jon Snow',\n",
              "  'Tyrion Lannister',\n",
              "  'Cercei Lannister',\n",
              "  'Arya Stark',\n",
              "  'Sansa Stark'],\n",
              " ['Aragorn', 'Gandalf', 'Frodo', 'Legolas', 'Gollum', 'Gimli'],\n",
              " ['Walter White', 'Jesse Pinkman', 'Gus Fring'],\n",
              " ['Carrie', 'Samantha', 'Charlotte', 'Miranda']]"
            ]
          },
          "execution_count": 17,
          "metadata": {},
          "output_type": "execute_result"
        }
      ],
      "source": [
        "characters.append(sex_and_the_city)\n",
        "characters"
      ]
    },
    {
      "cell_type": "markdown",
      "metadata": {
        "id": "pPTFwOyf-IJ3"
      },
      "source": [
        "###### **Exercise 8:**\n",
        "remove all elements from the `sex_and_the_city` list."
      ]
    },
    {
      "cell_type": "code",
      "execution_count": null,
      "metadata": {
        "colab": {
          "base_uri": "https://localhost:8080/"
        },
        "id": "fqxP26tM-IJ3",
        "outputId": "8ad36246-0eef-48da-cffc-43cab121fd4a"
      },
      "outputs": [
        {
          "data": {
            "text/plain": [
              "[]"
            ]
          },
          "execution_count": 18,
          "metadata": {},
          "output_type": "execute_result"
        }
      ],
      "source": [
        "# https://www.w3schools.com/python/ref_list_clear.asp\n",
        "\n",
        "sex_and_the_city.clear()\n",
        "sex_and_the_city"
      ]
    },
    {
      "cell_type": "markdown",
      "metadata": {
        "id": "xMDuxfVV-IJ3"
      },
      "source": [
        "###### **Exercise 9:**\n",
        "sum all elements in the `numbers` list."
      ]
    },
    {
      "cell_type": "code",
      "execution_count": 10,
      "metadata": {
        "colab": {
          "base_uri": "https://localhost:8080/"
        },
        "id": "hjxZKVTE-IJ3",
        "outputId": "4207c0b2-fbb0-4524-8b5e-eec80b4cf25b"
      },
      "outputs": [
        {
          "data": {
            "text/plain": [
              "5312"
            ]
          },
          "execution_count": 10,
          "metadata": {},
          "output_type": "execute_result"
        }
      ],
      "source": [
        "#https://www.w3schools.com/python/ref_func_sum.asp\n",
        "\n",
        "total = sum(numbers[0])\n",
        "total"
      ]
    },
    {
      "cell_type": "code",
      "execution_count": null,
      "metadata": {},
      "outputs": [],
      "source": [
        "numbers = ([1, 51, 59, 2, 95, 25, 28, 67, 14, 63, 84, 33, 56, 31, 54, 97, 77,\n",
        "            98, 46, 84, 6, 66, 86, 77, 69, 19, 77, 7, 76, 19, 59, 77, 28, 34,\n",
        "            94, 4, 45, 95, 41, 66, 5, 38, 35, 57, 84, 38, 94, 65, 45, 80, 83,\n",
        "            22, 12, 100, 52, 55, 31, 69, 29, 67, 4, 39, 87, 49, 81, 82, 96, 4,\n",
        "            85, 62, 90, 72, 70, 26, 29, 63, 48, 94, 58, 9, 49, 79, 33, 63, 41,\n",
        "            13, 90, 37, 31, 3, 11, 54, 56, 72, 91, 97, 2, 83, 82, 6])\n",
        "total = sum(numbers)\n",
        "print(total)\n"
      ]
    },
    {
      "cell_type": "markdown",
      "metadata": {
        "id": "NaXyaWbl-IJ3"
      },
      "source": [
        "###### **Exercise 10:**\n",
        "find out how many times the number `77` appears in the `numbers` list."
      ]
    },
    {
      "cell_type": "code",
      "execution_count": null,
      "metadata": {
        "colab": {
          "base_uri": "https://localhost:8080/"
        },
        "id": "fot_ZUxV-IJ3",
        "outputId": "4d1780b8-cca9-4ae1-8841-aa657c789c0f"
      },
      "outputs": [
        {
          "data": {
            "text/plain": [
              "4"
            ]
          },
          "execution_count": 20,
          "metadata": {},
          "output_type": "execute_result"
        }
      ],
      "source": [
        "# https://www.w3schools.com/python/ref_list_count.asp\n",
        "\n",
        "cnt = numbers[0].count(77)\n",
        "cnt"
      ]
    },
    {
      "cell_type": "markdown",
      "metadata": {
        "id": "Yv3AieQ5W54V"
      },
      "source": [
        "# Tuples and Sets\n",
        "\n",
        "**Tuples** are almost exactly like lists, the only difference is that they're unmutable. You'll see what that means in a second. They are defined by regular parentheses `()` instead of square brackets `[]`:"
      ]
    },
    {
      "cell_type": "code",
      "execution_count": null,
      "metadata": {
        "colab": {
          "base_uri": "https://localhost:8080/"
        },
        "id": "90Yca7rWKEN9",
        "outputId": "f63a12c9-dea9-4ca9-bb77-97a8d479092e"
      },
      "outputs": [
        {
          "name": "stdout",
          "output_type": "stream",
          "text": [
            "('a', 'b', 'c', 'd')\n"
          ]
        }
      ],
      "source": [
        "my_tuple = (\"a\", \"b\", \"c\", \"d\")\n",
        "print(my_tuple)"
      ]
    },
    {
      "cell_type": "markdown",
      "metadata": {
        "id": "HF6rQ5ZfKjoW"
      },
      "source": [
        "Tuples are ordered. You can select items inside of a tuple by indexing with `[]`, just like lists:"
      ]
    },
    {
      "cell_type": "code",
      "execution_count": null,
      "metadata": {
        "colab": {
          "base_uri": "https://localhost:8080/",
          "height": 36
        },
        "id": "ywI8Ls0zKHfm",
        "outputId": "daa87ebe-8572-4ce8-ed1a-9835959a5050"
      },
      "outputs": [
        {
          "data": {
            "application/vnd.google.colaboratory.intrinsic+json": {
              "type": "string"
            },
            "text/plain": [
              "'c'"
            ]
          },
          "execution_count": 22,
          "metadata": {},
          "output_type": "execute_result"
        }
      ],
      "source": [
        "my_tuple[2]"
      ]
    },
    {
      "cell_type": "markdown",
      "metadata": {
        "id": "Ygt4oqOzK5xq"
      },
      "source": [
        "But you can not update the value of an element inside of a tuple. Trying to do so will result in a `TypeError`:\n",
        "\n"
      ]
    },
    {
      "cell_type": "code",
      "execution_count": null,
      "metadata": {
        "colab": {
          "base_uri": "https://localhost:8080/",
          "height": 171
        },
        "id": "Xx0D8XzWKhMl",
        "outputId": "81b27ef1-758b-4a9f-d586-6f275aff801a"
      },
      "outputs": [
        {
          "ename": "TypeError",
          "evalue": "ignored",
          "output_type": "error",
          "traceback": [
            "\u001b[0;31m---------------------------------------------------------------------------\u001b[0m",
            "\u001b[0;31mTypeError\u001b[0m                                 Traceback (most recent call last)",
            "\u001b[0;32m<ipython-input-23-e34fd2f38e8a>\u001b[0m in \u001b[0;36m<module>\u001b[0;34m()\u001b[0m\n\u001b[0;32m----> 1\u001b[0;31m \u001b[0mmy_tuple\u001b[0m\u001b[0;34m[\u001b[0m\u001b[0;36m2\u001b[0m\u001b[0;34m]\u001b[0m \u001b[0;34m=\u001b[0m \u001b[0;34m\"e\"\u001b[0m\u001b[0;34m\u001b[0m\u001b[0;34m\u001b[0m\u001b[0m\n\u001b[0m",
            "\u001b[0;31mTypeError\u001b[0m: 'tuple' object does not support item assignment"
          ]
        }
      ],
      "source": [
        "my_tuple[2] = \"e\""
      ]
    },
    {
      "cell_type": "markdown",
      "metadata": {
        "id": "PqltEjSlLU_X"
      },
      "source": [
        "**Sets** are collections of items, just like lists and tuples, but they have the following properties:\n",
        "\n",
        "* They're not ordered.\n",
        "* They're unchangeable.\n",
        "* They cannot contain duplicate items."
      ]
    },
    {
      "cell_type": "code",
      "execution_count": null,
      "metadata": {
        "id": "d0krvDFxKfNd"
      },
      "outputs": [],
      "source": [
        "my_set = {1, 2, 3, 4}"
      ]
    },
    {
      "cell_type": "markdown",
      "metadata": {
        "id": "etD845CPMSs_"
      },
      "source": [
        "If you try to include a duplicate into a set, it will simply not get stored:"
      ]
    },
    {
      "cell_type": "code",
      "execution_count": null,
      "metadata": {
        "colab": {
          "base_uri": "https://localhost:8080/"
        },
        "id": "AqB52ehOMQwW",
        "outputId": "e141f055-c541-4de7-be08-8abcbd37a2be"
      },
      "outputs": [
        {
          "name": "stdout",
          "output_type": "stream",
          "text": [
            "{1, 2, 3, 5}\n"
          ]
        }
      ],
      "source": [
        "my_fibonacci_set = {1, 1, 2, 3, 5}\n",
        "print(my_fibonacci_set)"
      ]
    },
    {
      "cell_type": "markdown",
      "metadata": {
        "id": "5YxifWyWMrZB"
      },
      "source": [
        "This characteristic makes them useful to extract unique values from other python collections. You can transform another collection into a set using the `set()` function:"
      ]
    },
    {
      "cell_type": "code",
      "execution_count": null,
      "metadata": {
        "colab": {
          "base_uri": "https://localhost:8080/"
        },
        "id": "GncBABY0Mmdl",
        "outputId": "b935c9f1-ed9b-4ec6-cc1f-355b468d3ca9"
      },
      "outputs": [
        {
          "name": "stdout",
          "output_type": "stream",
          "text": [
            "{1, 2.5, 3.99, 4.95, 3, 6, 4, 8, 9.99, 11.25, 14}\n"
          ]
        }
      ],
      "source": [
        "# https://www.w3schools.com/python/ref_func_set.asp\n",
        "\n",
        "price_list = [3.99, 2.5, 9.99, 1, 4.95, \n",
        "              3, 2.5, 6, 8, 1, 9.99, 4, \n",
        "              11.25, 14, 3.99, 4, 6, 1]\n",
        "unique_prices = set(price_list)\n",
        "print(unique_prices)"
      ]
    },
    {
      "cell_type": "code",
      "execution_count": null,
      "metadata": {
        "colab": {
          "base_uri": "https://localhost:8080/"
        },
        "id": "Y4JYpJ0GNMJ8",
        "outputId": "39fef6e9-77b4-4fb5-d7a0-7166cd7a1cde"
      },
      "outputs": [
        {
          "name": "stdout",
          "output_type": "stream",
          "text": [
            "There are 18 prices listed, but only 11 unique price values.\n"
          ]
        }
      ],
      "source": [
        "print(\n",
        "    \"There are\", len(price_list), \"prices listed, but only\",\n",
        "    len(unique_prices), \"unique price values.\"\n",
        "    )"
      ]
    },
    {
      "cell_type": "markdown",
      "metadata": {
        "id": "yJUZXN9iqkfk"
      },
      "source": [
        "###### **Exercise 11:**\n",
        "create a tuple with 10 elements and store it in a variable named `first_tuple`."
      ]
    },
    {
      "cell_type": "code",
      "execution_count": null,
      "metadata": {
        "colab": {
          "base_uri": "https://localhost:8080/"
        },
        "id": "yhx7opXvN9rf",
        "outputId": "b0c05bff-c847-4c10-f79f-710f0d2ac676"
      },
      "outputs": [
        {
          "name": "stdout",
          "output_type": "stream",
          "text": [
            "(1, 2, 3, 4, 5, 4, 3, 2, 1)\n"
          ]
        }
      ],
      "source": [
        "first_tuple = (1, 2, 3, 4, 5, 4, 3, 2, 1)\n",
        "print(first_tuple)"
      ]
    },
    {
      "cell_type": "markdown",
      "metadata": {
        "id": "SMnCg1RuqvS6"
      },
      "source": [
        "###### **Exercise 12:**\n",
        "using `[]`, select only the first 6 elements of the tuple you created and store them into a new variable named `second_tuple`."
      ]
    },
    {
      "cell_type": "code",
      "execution_count": null,
      "metadata": {
        "colab": {
          "base_uri": "https://localhost:8080/"
        },
        "id": "ZP7hNknrPF4w",
        "outputId": "28f7b7ac-94f7-43e0-f25c-36534d5fa94e"
      },
      "outputs": [
        {
          "name": "stdout",
          "output_type": "stream",
          "text": [
            "(1, 2, 3, 4, 5, 4)\n"
          ]
        }
      ],
      "source": [
        "second_tuple = first_tuple[:6]\n",
        "print(second_tuple)"
      ]
    },
    {
      "cell_type": "markdown",
      "metadata": {
        "id": "65yfj8Y7q35T"
      },
      "source": [
        "###### **exercise 13:**\n",
        "convert the `second_tuple` into a set and store it in a variable called `first_set`."
      ]
    },
    {
      "cell_type": "code",
      "execution_count": null,
      "metadata": {
        "colab": {
          "base_uri": "https://localhost:8080/"
        },
        "id": "1lzpXTtUPJ-z",
        "outputId": "3ed3edac-ec81-45f9-ac95-924f60f48675"
      },
      "outputs": [
        {
          "name": "stdout",
          "output_type": "stream",
          "text": [
            "{1, 2, 3, 4, 5}\n"
          ]
        }
      ],
      "source": [
        "first_set = set(second_tuple)\n",
        "print(first_set)"
      ]
    },
    {
      "cell_type": "markdown",
      "metadata": {
        "id": "XoYk14mEq92Z"
      },
      "source": [
        "###### **Exercise 14:**\n",
        "can you select the first element of the `first_set`?"
      ]
    },
    {
      "cell_type": "code",
      "execution_count": null,
      "metadata": {
        "colab": {
          "base_uri": "https://localhost:8080/",
          "height": 208
        },
        "id": "7pqnQriaPQUq",
        "outputId": "7b264f5c-065e-40b6-f53d-f420c5c2077f"
      },
      "outputs": [
        {
          "ename": "TypeError",
          "evalue": "ignored",
          "output_type": "error",
          "traceback": [
            "\u001b[0;31m---------------------------------------------------------------------------\u001b[0m",
            "\u001b[0;31mTypeError\u001b[0m                                 Traceback (most recent call last)",
            "\u001b[0;32m<ipython-input-31-a3151bae53bb>\u001b[0m in \u001b[0;36m<module>\u001b[0;34m()\u001b[0m\n\u001b[1;32m      2\u001b[0m \u001b[0;31m# and they don't have \"first\" or \"second\" elements.\u001b[0m\u001b[0;34m\u001b[0m\u001b[0;34m\u001b[0m\u001b[0;34m\u001b[0m\u001b[0m\n\u001b[1;32m      3\u001b[0m \u001b[0;31m# Trying to index tuples raises an error:\u001b[0m\u001b[0;34m\u001b[0m\u001b[0;34m\u001b[0m\u001b[0;34m\u001b[0m\u001b[0m\n\u001b[0;32m----> 4\u001b[0;31m \u001b[0mfirst_set\u001b[0m\u001b[0;34m[\u001b[0m\u001b[0;36m0\u001b[0m\u001b[0;34m]\u001b[0m\u001b[0;34m\u001b[0m\u001b[0;34m\u001b[0m\u001b[0m\n\u001b[0m",
            "\u001b[0;31mTypeError\u001b[0m: 'set' object is not subscriptable"
          ]
        }
      ],
      "source": [
        "# Tuples are not ordered collections, they cannot be indexed,\n",
        "# and they don't have \"first\" or \"second\" elements.\n",
        "# Trying to index tuples raises an error:\n",
        "first_set[0]"
      ]
    },
    {
      "cell_type": "markdown",
      "metadata": {
        "id": "Alx_Dh-xPgSQ"
      },
      "source": [
        "###### **Exercise 15:** \n",
        "Below, you have a set with healthy ingredients and another one with vegan ingredients. Using [set methods you will find here](https://www.w3schools.com/python/python_ref_set.asp), print out a set with ingredients that are both healthy and vegan."
      ]
    },
    {
      "cell_type": "code",
      "execution_count": null,
      "metadata": {
        "colab": {
          "base_uri": "https://localhost:8080/"
        },
        "id": "yOFgsQ5aPSN7",
        "outputId": "81d6e07a-c82a-4f2f-be04-dbdb003a60c1"
      },
      "outputs": [
        {
          "name": "stdout",
          "output_type": "stream",
          "text": [
            "{'avocado', 'apple', 'olive oil', 'spinach'}\n"
          ]
        }
      ],
      "source": [
        "healthy_food = {\"apple\", \"salmon\", \"avocado\", \"seafood\", \"olive oil\", \"spinach\", \"yogurt\"}\n",
        "vegan_food = {\"cookies\", \"apple\", \"avocado\", \"candy\", \"olive oil\", \"fake chiken\", \"spinach\"}\n",
        "\n",
        "# your code here\n",
        "\n",
        "#https://www.w3schools.com/python/ref_set_intersection.asp\n",
        "\n",
        "vegan_healthy = healthy_food.intersection(vegan_food)\n",
        "print(vegan_healthy)"
      ]
    }
  ],
  "metadata": {
    "colab": {
      "collapsed_sections": [],
      "name": "2-lists-sets-tuples-solutions.ipynb",
      "provenance": []
    },
    "kernelspec": {
      "display_name": "Python 3",
      "language": "python",
      "name": "python3"
    },
    "language_info": {
      "codemirror_mode": {
        "name": "ipython",
        "version": 3
      },
      "file_extension": ".py",
      "mimetype": "text/x-python",
      "name": "python",
      "nbconvert_exporter": "python",
      "pygments_lexer": "ipython3",
      "version": "3.8.8"
    }
  },
  "nbformat": 4,
  "nbformat_minor": 0
}
